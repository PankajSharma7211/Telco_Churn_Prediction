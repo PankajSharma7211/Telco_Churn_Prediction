{
 "cells": [
  {
   "cell_type": "markdown",
   "metadata": {},
   "source": [
    "#### Context\n",
    "\"Predict behavior to retain customers. You can analyze all relevant customer data and develop focused customer retention programs.\" [IBM Sample Data Sets]\n",
    "\n",
    "#### Content\n",
    "Each row represents a customer, each column contains customer’s attributes described on the column Metadata.\n",
    "\n",
    "\n",
    "\n",
    "\n",
    "\n",
    "|Field                                         |Description                               |\n",
    "|----------------------------------------------|------------------------------------------|\n",
    "|Churn                                         |customer who left                         |                                 \n",
    "|Services that each customer has signed up for |phone, multiple lines, internet, online   |\n",
    "|Services that each customer has signed up for |security, online backup, device           |\n",
    "|Services that each customer has signed up for |protection,TV tech support, and streaming |\n",
    "\n",
    "\n",
    "\n",
    "* Demographic info about customers – gender, age range, and if they have partners and dependents\n",
    "\n",
    "![image](Images/Churn.jpg)"
   ]
  },
  {
   "cell_type": "code",
   "execution_count": null,
   "metadata": {},
   "outputs": [],
   "source": []
  }
 ],
 "metadata": {
  "kernelspec": {
   "display_name": "Python 3",
   "language": "python",
   "name": "python3"
  },
  "language_info": {
   "codemirror_mode": {
    "name": "ipython",
    "version": 3
   },
   "file_extension": ".py",
   "mimetype": "text/x-python",
   "name": "python",
   "nbconvert_exporter": "python",
   "pygments_lexer": "ipython3",
   "version": "3.6.5"
  }
 },
 "nbformat": 4,
 "nbformat_minor": 4
}
